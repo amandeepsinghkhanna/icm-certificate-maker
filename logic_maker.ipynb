{
 "cells": [
  {
   "cell_type": "markdown",
   "metadata": {},
   "source": [
    "# Logic Creation and Experimentation Notebook:"
   ]
  },
  {
   "cell_type": "code",
   "execution_count": 1,
   "metadata": {},
   "outputs": [],
   "source": [
    "# Import statements:\n",
    "import os # for interfacing with the operating system.\n",
    "import re # for regular expressions\n",
    "import docx # for reading .docx files.\n",
    "import pandas as pd # for reading the student info excel sheet."
   ]
  },
  {
   "cell_type": "code",
   "execution_count": 2,
   "metadata": {},
   "outputs": [],
   "source": [
    "# Global variables\n",
    "STUDENT_INFO_FILEPATH = \"./data/student_information.xlsx\" # path to the \".csv\" file with the student information.\n",
    "REQ_COLS = [\"student_id\", \"student_name\", \"student_campus\", \"student_status\"] # list of columns within the file.\n",
    "CERTIFICATE_FILEPATH = \"./certificate_template.docx\"\n",
    "REPLACEMENT_KEYWORDS_DICT = {\n",
    "    \"STUDENT_NAME\": \"\",\n",
    "    \"STUDENT_ID\": \"\",\n",
    "    \"STUDENT_CAMPUS\": \"\",\n",
    "    \"STUDENT_STATUS\": \"\"\n",
    "}"
   ]
  },
  {
   "cell_type": "code",
   "execution_count": 3,
   "metadata": {},
   "outputs": [],
   "source": [
    "# User defined function to read and validate the student information file:\n",
    "def read_student_info(student_info_filepath, req_cols):\n",
    "    \"\"\"\n",
    "    Reads a \".csv\" file with the student information, checks if the required\n",
    "    columns exist in the file and returns the file as a pandas DataFrame.\n",
    "\n",
    "    Arguments:\n",
    "        1. student_info_filepath - str - Path to the \".csv\" file with the student information.\n",
    "        2. req_cols - list - List of str values representing the mandatory columns form the\n",
    "            student information file.\n",
    "\n",
    "    Returns:\n",
    "        1. student_info_df - pandas.core.DataFrame - The student information as a pandas DataFrame.\n",
    "    \"\"\"\n",
    "    # Reading the student information file:\n",
    "    student_info_df = pd.read_excel(student_info_filepath)\n",
    "    # Standardisation of the column names:\n",
    "    student_info_file_cols = [\n",
    "        f.lower().strip().replace(\" \", \"_\") for f in student_info_df.columns\n",
    "    ]\n",
    "    # Checking for missing columns in the files:\n",
    "    missing_cols = set(req_cols) - set(student_info_file_cols)\n",
    "    if len(missing_cols) == 0:  # If no columns are missing.\n",
    "        return student_info_df\n",
    "    else:  # If at-least one column is missing.\n",
    "        raise ValueError(f\"The columns {missing_cols} are missing.\")"
   ]
  },
  {
   "cell_type": "code",
   "execution_count": 4,
   "metadata": {},
   "outputs": [],
   "source": [
    "# Reading the student file:\n",
    "student_info_df = read_student_info(\n",
    "    student_info_filepath=STUDENT_INFO_FILEPATH, req_cols=REQ_COLS\n",
    ")"
   ]
  },
  {
   "cell_type": "code",
   "execution_count": 5,
   "metadata": {},
   "outputs": [],
   "source": [
    "# User-defined function to read the certificate temple stored as a \".docx\" file:\n",
    "def read_certificate_template(certificate_template_path):\n",
    "    \"\"\"\n",
    "    Reads the certificate template stored as a word document \".docx\" file format.\n",
    "\n",
    "    Arguments:\n",
    "    1. certificate_template_path - str - Path to the \".docx\" file with the certificate\n",
    "        template.\n",
    "    \"\"\"\n",
    "    # Reading the \".docx\" file with the certificate template:\n",
    "    with open(certificate_template_path, \"rb\") as word_file:\n",
    "        certificate_template = docx.Document(word_file)\n",
    "    return certificate_template"
   ]
  },
  {
   "cell_type": "code",
   "execution_count": 6,
   "metadata": {},
   "outputs": [],
   "source": [
    "# Reading the certificate template file:\n",
    "certificate_template = read_certificate_template(\n",
    "    certificate_template_path=CERTIFICATE_FILEPATH\n",
    ")"
   ]
  },
  {
   "cell_type": "code",
   "execution_count": 7,
   "metadata": {},
   "outputs": [],
   "source": [
    "# User-defined function to replace the keywords in the docx file:\n",
    "def fill_certificate(doc_obj, replacement_keywords_dict):\n",
    "    \"\"\"\n",
    "    Replaces placeholders in a Word document (.docx) with values from a provided dictionary.\n",
    "\n",
    "    This function iterates through all sections and paragraphs in the header of the document,\n",
    "    searching for text patterns specified in the `replacement_keywords_dict`. It then replaces\n",
    "    these patterns with the corresponding values from the dictionary.\n",
    "\n",
    "    Args:\n",
    "        doc_obj (docx.Document): The Word document object to be modified.\n",
    "        replacement_keywords_dict (dict): A dictionary where keys are regular expression patterns\n",
    "                                          and values are the corresponding replacement strings.\n",
    "\n",
    "    Returns:\n",
    "        docx.Document: The modified Word document object with placeholders replaced.\n",
    "    \"\"\"\n",
    "    for section in doc_obj.sections:\n",
    "        header = section.header\n",
    "        for paragraph in header.paragraphs:\n",
    "            for (\n",
    "                replacement_pattern,\n",
    "                replacement_value,\n",
    "            ) in replacement_keywords_dict.items():\n",
    "                paragraph.text = re.sub(\n",
    "                    replacement_pattern,\n",
    "                    replacement_value,\n",
    "                    paragraph.text,\n",
    "                    flags=re.IGNORECASE,\n",
    "                )\n",
    "    return doc_obj"
   ]
  },
  {
   "cell_type": "code",
   "execution_count": 8,
   "metadata": {},
   "outputs": [],
   "source": [
    "def create_certificates(\n",
    "    certificate_template, student_info_df, replacement_keywords_dict, output_dir=\"./\"\n",
    "):\n",
    "    student_info_lst = student_info_df.to_dict(orient=\"records\")\n",
    "    for student_info_dict in student_info_lst:\n",
    "        working_certificate_copy = certificate_template\n",
    "        for key in replacement_keywords_dict.keys():\n",
    "            replacement_keywords_dict[key] = str(student_info_dict[key.lower()])\n",
    "        fill_certificate(\n",
    "            doc_obj=working_certificate_copy,\n",
    "            replacement_keywords_dict=replacement_keywords_dict,\n",
    "        )\n",
    "        certificate_filepath = os.path.join(\n",
    "            output_dir, f\"{student_info_dict['student_name']}.docx\"\n",
    "        )\n",
    "        working_certificate_copy.save(certificate_filepath)"
   ]
  },
  {
   "cell_type": "code",
   "execution_count": 9,
   "metadata": {},
   "outputs": [],
   "source": [
    "create_certificates(\n",
    "    certificate_template=certificate_template,\n",
    "    student_info_df=student_info_df,\n",
    "    replacement_keywords_dict=REPLACEMENT_KEYWORDS_DICT,\n",
    "    output_dir=\"./\",\n",
    ")"
   ]
  },
  {
   "cell_type": "code",
   "execution_count": null,
   "metadata": {},
   "outputs": [],
   "source": []
  }
 ],
 "metadata": {
  "kernelspec": {
   "display_name": "dev",
   "language": "python",
   "name": "python3"
  },
  "language_info": {
   "codemirror_mode": {
    "name": "ipython",
    "version": 3
   },
   "file_extension": ".py",
   "mimetype": "text/x-python",
   "name": "python",
   "nbconvert_exporter": "python",
   "pygments_lexer": "ipython3",
   "version": "3.12.1"
  }
 },
 "nbformat": 4,
 "nbformat_minor": 2
}
