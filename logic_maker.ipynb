{
 "cells": [
  {
   "cell_type": "markdown",
   "metadata": {},
   "source": [
    "# Logic Creation and Experimentation Notebook:"
   ]
  },
  {
   "cell_type": "code",
   "execution_count": 26,
   "metadata": {},
   "outputs": [],
   "source": [
    "# Import statements:\n",
    "import pandas as pd\n",
    "import docx"
   ]
  },
  {
   "cell_type": "code",
   "execution_count": 19,
   "metadata": {},
   "outputs": [],
   "source": [
    "# Global variables\n",
    "STUDENT_INFO_FILEPATH = \"./data/student_information.csv\" # path to the \".csv\" file with the student information.\n",
    "REQ_COLS = [\"student_id\", \"student_name\", \"student_grade\"] # list of columns within the file.\n",
    "CERTIFICATE_FILEPATH = \"./certificate_template.docx\"\n",
    "REPLACEMENT_KEYWORDS = {\n",
    "    \"*STUDENT_NAME*\": \"\",\n",
    "    \"*STUDENT_ID*\": \"\"\n",
    "}"
   ]
  },
  {
   "cell_type": "code",
   "execution_count": 20,
   "metadata": {},
   "outputs": [],
   "source": [
    "# User defined function to read and validate the student information file:\n",
    "def read_student_info(student_info_filepath, req_cols):\n",
    "    \"\"\"\n",
    "    Reads a \".csv\" file with the student information, checks if the required\n",
    "    columns exist in the file and returns the file as a pandas DataFrame.\n",
    "\n",
    "    Arguments:\n",
    "        1. student_info_filepath - str - Path to the \".csv\" file with the student information.\n",
    "        2. req_cols - list - List of str values representing the mandatory columns form the\n",
    "            student information file.\n",
    "\n",
    "    Returns:\n",
    "        1. student_info_df - pandas.core.DataFrame - The student information as a pandas DataFrame.\n",
    "    \"\"\"\n",
    "    # Reading the student information file:\n",
    "    student_info_df = pd.read_csv(student_info_filepath)\n",
    "    # Standardisation of the column names:\n",
    "    student_info_file_cols = [\n",
    "        f.lower().strip().replace(\" \", \"_\") for f in student_info_df.columns\n",
    "    ]\n",
    "    # Checking for missing columns in the files:\n",
    "    missing_cols = set(req_cols) - set(student_info_file_cols)\n",
    "    if len(missing_cols) == 0:  # If no columns are missing.\n",
    "        return student_info_df\n",
    "    else:  # If at-least one column is missing.\n",
    "        raise ValueError(f\"The columns {missing_cols} are missing.\")"
   ]
  },
  {
   "cell_type": "code",
   "execution_count": 21,
   "metadata": {},
   "outputs": [],
   "source": [
    "# Reading the student file:\n",
    "student_info_df = read_student_info(\n",
    "    student_info_filepath=STUDENT_INFO_FILEPATH, req_cols=REQ_COLS\n",
    ")"
   ]
  },
  {
   "cell_type": "code",
   "execution_count": 22,
   "metadata": {},
   "outputs": [],
   "source": [
    "# User-defined function to read the certificate temple stored as a \".docx\" file:\n",
    "def read_certificate_template(certificate_template_path):\n",
    "    \"\"\"\n",
    "    Reads the certificate template stored as a word document \".docx\" file format.\n",
    "\n",
    "    Arguments:\n",
    "    1. certificate_template_path - str - Path to the \".docx\" file with the certificate\n",
    "        template.\n",
    "    \"\"\"\n",
    "    # Reading the \".docx\" file with the certificate template:\n",
    "    with open(certificate_template_path, \"rb\") as word_file:\n",
    "        certificate_template = docx.Document(word_file)\n",
    "    return certificate_template"
   ]
  },
  {
   "cell_type": "code",
   "execution_count": 23,
   "metadata": {},
   "outputs": [],
   "source": [
    "certificate_template = read_certificate_template(\n",
    "    certificate_template_path=CERTIFICATE_FILEPATH\n",
    ")"
   ]
  },
  {
   "cell_type": "code",
   "execution_count": null,
   "metadata": {},
   "outputs": [],
   "source": [
    "# import docx\n",
    "\n",
    "# def replace_textbox_text(docx_file_path, textbox_name, replacement_text):\n",
    "#     \"\"\"Reads a .docx file, replaces text in a specified textbox with the given value,\n",
    "#     and saves the modified file.\n",
    "\n",
    "#     Args:\n",
    "#         docx_file_path (str): Path to the .docx file.\n",
    "#         textbox_name (str): Name of the textbox to modify.\n",
    "#         replacement_text (str): The text to replace the current textbox content.\n",
    "\n",
    "#     Returns:\n",
    "#         None\n",
    "    # \"\"\"\n",
    "\n",
    "    # doc = docx.Document(docx_file_path)\n",
    "\n",
    "    for textbox in doc.shapes.select_by_type(docx.shapes.inline_shape.InlineShape):\n",
    "        if textbox.textbox.text.strip() == textbox_name:\n",
    "            textbox.textbox.text = replacement_text\n",
    "            print(f\"Replaced text in textbox '{textbox_name}' with '{replacement_text}'\")\n",
    "            break  # Stop after replacing the first matching textbox\n",
    "    # else:\n",
    "    #     print(f\"Textbox '{textbox_name}' not found in the document.\")\n",
    "\n",
    "    # doc.save(docx_file_path)  # Save the modified document\n",
    "\n",
    "# # Example usage:\n",
    "# filepath = \"your_document.docx\"  # Replace with your actual file path\n",
    "# textbox_name = \"student_name\"\n",
    "# new_text = \"aman\"\n",
    "\n",
    "# replace_textbox_text(filepath, textbox_name, new_text)\n"
   ]
  },
  {
   "cell_type": "code",
   "execution_count": 32,
   "metadata": {},
   "outputs": [],
   "source": [
    "working_certificate_copy = certificate_template\n",
    "student_id = \"1\"\n",
    "student_name = \"Amandeep Singh Khanna\""
   ]
  },
  {
   "cell_type": "code",
   "execution_count": null,
   "metadata": {},
   "outputs": [],
   "source": []
  }
 ],
 "metadata": {
  "kernelspec": {
   "display_name": "dev",
   "language": "python",
   "name": "python3"
  },
  "language_info": {
   "codemirror_mode": {
    "name": "ipython",
    "version": 3
   },
   "file_extension": ".py",
   "mimetype": "text/x-python",
   "name": "python",
   "nbconvert_exporter": "python",
   "pygments_lexer": "ipython3",
   "version": "3.12.1"
  }
 },
 "nbformat": 4,
 "nbformat_minor": 2
}
