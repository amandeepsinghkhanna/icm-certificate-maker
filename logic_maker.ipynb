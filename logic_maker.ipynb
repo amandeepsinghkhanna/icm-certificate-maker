{
 "cells": [
  {
   "cell_type": "markdown",
   "metadata": {},
   "source": [
    "# Logic Creation and Experimentation Notebook:"
   ]
  },
  {
   "cell_type": "code",
   "execution_count": 1,
   "metadata": {},
   "outputs": [],
   "source": [
    "# Import statements:\n",
    "import pandas as pd"
   ]
  },
  {
   "cell_type": "code",
   "execution_count": 2,
   "metadata": {},
   "outputs": [],
   "source": [
    "# Global variables\n",
    "STUDENT_INFO_FILEPATH = \"./data/student_information.csv\" # path to the \".csv\" file with the student information.\n",
    "REQ_COLS = [\"student_id\", \"student_name\", \"student_grade\"] # list of columns within the file."
   ]
  },
  {
   "cell_type": "code",
   "execution_count": 5,
   "metadata": {},
   "outputs": [],
   "source": [
    "# User defined function to read and validate the student information file:\n",
    "def read_student_info(student_info_filepath, req_cols):\n",
    "    \"\"\"\n",
    "        Reads a \".csv\" file with the student information, checks if the required\n",
    "        columns exist in the file and returns the file as a pandas DataFrame.\n",
    "        \n",
    "        Arguments:\n",
    "            1. student_info_filepath - str - Path to the \".csv\" file with the student information.\n",
    "            2. req_cols - list - List of str values representing the mandatory columns form the\n",
    "                student information file.\n",
    "\n",
    "        Returns:\n",
    "            1. student_info_df - pandas.core.DataFrame - The student information as a pandas DataFrame.\n",
    "    \"\"\"\n",
    "    # Reading the student information file:\n",
    "    student_info_df = pd.read_csv(student_info_filepath)\n",
    "    # Standardisation of the column names:\n",
    "    student_info_file_cols = [\n",
    "        f.lower().strip().replace(\" \", \"_\") for f in student_info_df.columns\n",
    "    ]\n",
    "    # Checking for missing columns in the files:\n",
    "    missing_cols = set(req_cols) - set(student_info_file_cols)\n",
    "    if len(missing_cols) == 0: # If no columns are missing.\n",
    "        return student_info_df\n",
    "    else: # If at-least one column is missing.\n",
    "        raise ValueError(f\"The columns {missing_cols} are missing.\")"
   ]
  },
  {
   "cell_type": "code",
   "execution_count": 4,
   "metadata": {},
   "outputs": [],
   "source": [
    "# Reading the student file:\n",
    "student_info_df = read_student_info(\n",
    "    student_info_filepath=STUDENT_INFO_FILEPATH, req_cols=REQ_COLS\n",
    ")"
   ]
  }
 ],
 "metadata": {
  "kernelspec": {
   "display_name": "dev",
   "language": "python",
   "name": "python3"
  },
  "language_info": {
   "codemirror_mode": {
    "name": "ipython",
    "version": 3
   },
   "file_extension": ".py",
   "mimetype": "text/x-python",
   "name": "python",
   "nbconvert_exporter": "python",
   "pygments_lexer": "ipython3",
   "version": "3.12.1"
  }
 },
 "nbformat": 4,
 "nbformat_minor": 2
}
